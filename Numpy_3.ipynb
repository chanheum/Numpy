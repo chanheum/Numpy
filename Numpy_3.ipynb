{
 "cells": [
  {
   "cell_type": "markdown",
   "id": "c09c55fc",
   "metadata": {},
   "source": [
    "**Numpy 공부 3**"
   ]
  },
  {
   "cell_type": "code",
   "execution_count": 1,
   "id": "0f9ee744",
   "metadata": {},
   "outputs": [],
   "source": [
    "import numpy as np"
   ]
  },
  {
   "cell_type": "markdown",
   "id": "24ecf267",
   "metadata": {},
   "source": [
    "**ndarray.shape : 배열의 각 축(axis)의 크기<br>\n",
    "ndarray.ndim : 축의 개수(Dimension)<br>\n",
    "ndarray.dtype : 각 요소(Element)의 타입<br>\n",
    "ndarray.itemsize : 각 요소(Element)의 타입의 bytes 크기<br>\n",
    "ndarray.size : 전체 요소(Element)의 개수<br>**"
   ]
  },
  {
   "cell_type": "code",
   "execution_count": 2,
   "id": "0501f3f0",
   "metadata": {},
   "outputs": [],
   "source": [
    "# 0이상, 15미만의 수를 shape가 (3,5)인 배열 생성\n",
    "a = np.arange(15).reshape(3,5)"
   ]
  },
  {
   "cell_type": "code",
   "execution_count": 3,
   "id": "d7746f49",
   "metadata": {},
   "outputs": [
    {
     "name": "stdout",
     "output_type": "stream",
     "text": [
      "[[ 0  1  2  3  4]\n",
      " [ 5  6  7  8  9]\n",
      " [10 11 12 13 14]]\n",
      "(3, 5)\n",
      "2\n",
      "4\n",
      "15\n"
     ]
    }
   ],
   "source": [
    "print(a)\n",
    "# 배열의 각 축의 크기\n",
    "print(a.shape)\n",
    "# 축의 개수\n",
    "print(a.ndim)\n",
    "# 각 요소의 타입의 byte크기\n",
    "print(a.itemsize)\n",
    "# 전체 요소의 개수\n",
    "print(a.size)"
   ]
  },
  {
   "cell_type": "markdown",
   "id": "7b973559",
   "metadata": {},
   "source": [
    "**편하게 배열 생성하기**"
   ]
  },
  {
   "cell_type": "code",
   "execution_count": 4,
   "id": "541a7518",
   "metadata": {},
   "outputs": [
    {
     "name": "stdout",
     "output_type": "stream",
     "text": [
      "[[0. 0. 0. 0.]\n",
      " [0. 0. 0. 0.]\n",
      " [0. 0. 0. 0.]]\n"
     ]
    }
   ],
   "source": [
    "# shape가 (3,4)인 배열을 생성해서 0으로 채움\n",
    "print(np.zeros((3,4)))"
   ]
  },
  {
   "cell_type": "code",
   "execution_count": 5,
   "id": "0034ba2f",
   "metadata": {},
   "outputs": [
    {
     "name": "stdout",
     "output_type": "stream",
     "text": [
      "[[[1 1 1 1]\n",
      "  [1 1 1 1]\n",
      "  [1 1 1 1]]\n",
      "\n",
      " [[1 1 1 1]\n",
      "  [1 1 1 1]\n",
      "  [1 1 1 1]]]\n"
     ]
    }
   ],
   "source": [
    "# shape가 (2,3,4)인 배열을 int16형인 1로 채움\n",
    "# (2,3,4) -> (3,4)인 배열을 2개 생성\n",
    "print(np.ones((2,3,4), dtype = np.int16))"
   ]
  },
  {
   "cell_type": "code",
   "execution_count": 6,
   "id": "ab753109",
   "metadata": {},
   "outputs": [
    {
     "name": "stdout",
     "output_type": "stream",
     "text": [
      "[[1.39069238e-309 1.39069238e-309 1.39069238e-309]\n",
      " [1.39069238e-309 1.39069238e-309 1.39069238e-309]]\n"
     ]
    }
   ],
   "source": [
    "# shape가 (2,3)인 배열을 초기화되지 않은 값으로 채움\n",
    "print(np.empty((2,3)))"
   ]
  },
  {
   "cell_type": "markdown",
   "id": "cbfb4e9d",
   "metadata": {},
   "source": [
    "**연속적인 데이터 생성<br>**\n",
    "np.arange() : N만큼 차이나는 숫자 생성<br>\n",
    "np.linspace() : N 등분한 숫자 생성"
   ]
  },
  {
   "cell_type": "code",
   "execution_count": 7,
   "id": "27701d33",
   "metadata": {},
   "outputs": [
    {
     "name": "stdout",
     "output_type": "stream",
     "text": [
      "[10 15 20 25]\n"
     ]
    }
   ],
   "source": [
    "# 10이상 30미만까지 5씩 차이나게 생성\n",
    "print(np.arange(10,30,5))"
   ]
  },
  {
   "cell_type": "code",
   "execution_count": 8,
   "id": "93db4dcc",
   "metadata": {},
   "outputs": [
    {
     "name": "stdout",
     "output_type": "stream",
     "text": [
      "[ 0.  1.  2.  3.  4.  5.  6.  7.  8.  9. 10. 11. 12. 13. 14. 15. 16. 17.\n",
      " 18. 19. 20. 21. 22. 23. 24. 25. 26. 27. 28. 29. 30. 31. 32. 33. 34. 35.\n",
      " 36. 37. 38. 39. 40. 41. 42. 43. 44. 45. 46. 47. 48. 49. 50. 51. 52. 53.\n",
      " 54. 55. 56. 57. 58. 59. 60. 61. 62. 63. 64. 65. 66. 67. 68. 69. 70. 71.\n",
      " 72. 73. 74. 75. 76. 77. 78. 79. 80. 81. 82. 83. 84. 85. 86. 87. 88. 89.\n",
      " 90. 91. 92. 93. 94. 95. 96. 97. 98. 99.]\n"
     ]
    }
   ],
   "source": [
    "# 0이상 99까지 100등분해서 생성\n",
    "print(np.linspace(0,99,100))"
   ]
  },
  {
   "cell_type": "markdown",
   "id": "9d00835b",
   "metadata": {},
   "source": [
    "**배열의 shape 변경**<br>\n",
    "reshape() : 배열의 데이터는 유지한 채 원하는 shape으로 변경한다."
   ]
  },
  {
   "cell_type": "code",
   "execution_count": 9,
   "id": "03cd89da",
   "metadata": {},
   "outputs": [
    {
     "name": "stdout",
     "output_type": "stream",
     "text": [
      "[ 0  1  2  3  4  5  6  7  8  9 10 11]\n"
     ]
    }
   ],
   "source": [
    "# 1차원 배열 생성\n",
    "print(np.arange(12))"
   ]
  },
  {
   "cell_type": "code",
   "execution_count": 10,
   "id": "dc0b1d2b",
   "metadata": {},
   "outputs": [
    {
     "name": "stdout",
     "output_type": "stream",
     "text": [
      "[[ 0  1  2  3]\n",
      " [ 4  5  6  7]\n",
      " [ 8  9 10 11]]\n"
     ]
    }
   ],
   "source": [
    "# 배열의 shape을 (3,4)로 변경\n",
    "print(np.arange(12).reshape(3,4))"
   ]
  },
  {
   "cell_type": "code",
   "execution_count": 11,
   "id": "edb1939e",
   "metadata": {},
   "outputs": [
    {
     "name": "stdout",
     "output_type": "stream",
     "text": [
      "[[[ 0  1  2  3]\n",
      "  [ 4  5  6  7]\n",
      "  [ 8  9 10 11]]\n",
      "\n",
      " [[12 13 14 15]\n",
      "  [16 17 18 19]\n",
      "  [20 21 22 23]]]\n"
     ]
    }
   ],
   "source": [
    "# (3,4) shape의 배열을 2개로 분할\n",
    "print(np.arange(24).reshape(2,3,4))"
   ]
  },
  {
   "cell_type": "markdown",
   "id": "b4367c57",
   "metadata": {},
   "source": [
    "**행렬 연산**<br>\n",
    "@ : 행렬 곱셈<br>\n",
    ".dot() : 행렬 내적"
   ]
  },
  {
   "cell_type": "code",
   "execution_count": 12,
   "id": "0b83317c",
   "metadata": {},
   "outputs": [],
   "source": [
    "a = np.array([[1,1],[0,1]])\n",
    "b = np.array([[2,0],[3,4]])"
   ]
  },
  {
   "cell_type": "code",
   "execution_count": 13,
   "id": "ea2bd1d4",
   "metadata": {},
   "outputs": [
    {
     "name": "stdout",
     "output_type": "stream",
     "text": [
      "[[5 4]\n",
      " [3 4]]\n"
     ]
    }
   ],
   "source": [
    "# 행렬 곱셈 연산\n",
    "print(a @ b)"
   ]
  },
  {
   "cell_type": "code",
   "execution_count": 14,
   "id": "a60408b5",
   "metadata": {},
   "outputs": [
    {
     "name": "stdout",
     "output_type": "stream",
     "text": [
      "[[5 4]\n",
      " [3 4]]\n"
     ]
    }
   ],
   "source": [
    "# 행렬 내적 연산\n",
    "print(a.dot(b))"
   ]
  },
  {
   "cell_type": "markdown",
   "id": "d2e2f4bd",
   "metadata": {},
   "source": [
    "**그 외 연산들**<br>\n",
    "np.array.sum(): 모든 요소의 합<br>\n",
    "np.array.min(): 모든 요소 중 최소값<br>\n",
    "np.array.max(): 모든 요소 중 최대값<br>\n",
    "np.array.argmax(): 모든 요소 중 최대값의 인덱스<br>\n",
    "np.array.cumsum(): 모든 요소의 누적합<br>"
   ]
  },
  {
   "cell_type": "code",
   "execution_count": 15,
   "id": "596b5d2f",
   "metadata": {},
   "outputs": [],
   "source": [
    "c = np.arange(8).reshape(2, 4) ** 2"
   ]
  },
  {
   "cell_type": "code",
   "execution_count": 16,
   "id": "61ea717b",
   "metadata": {},
   "outputs": [
    {
     "name": "stdout",
     "output_type": "stream",
     "text": [
      "[[ 0  1  4  9]\n",
      " [16 25 36 49]]\n"
     ]
    }
   ],
   "source": [
    "print(c)"
   ]
  },
  {
   "cell_type": "code",
   "execution_count": 17,
   "id": "28494999",
   "metadata": {},
   "outputs": [
    {
     "name": "stdout",
     "output_type": "stream",
     "text": [
      "140\n"
     ]
    }
   ],
   "source": [
    "# 모든 요소들의 합\n",
    "print(c.sum())"
   ]
  },
  {
   "cell_type": "code",
   "execution_count": 18,
   "id": "e9a30ae9",
   "metadata": {},
   "outputs": [
    {
     "name": "stdout",
     "output_type": "stream",
     "text": [
      "0\n"
     ]
    }
   ],
   "source": [
    "# 모든 요소 중에 최소값\n",
    "print(c.min())"
   ]
  },
  {
   "cell_type": "code",
   "execution_count": 19,
   "id": "0aea3bf5",
   "metadata": {},
   "outputs": [
    {
     "name": "stdout",
     "output_type": "stream",
     "text": [
      "49\n"
     ]
    }
   ],
   "source": [
    "# 모든 요소 중에 최대값\n",
    "print(c.max())"
   ]
  },
  {
   "cell_type": "code",
   "execution_count": 20,
   "id": "be6a6958",
   "metadata": {},
   "outputs": [
    {
     "name": "stdout",
     "output_type": "stream",
     "text": [
      "7\n"
     ]
    }
   ],
   "source": [
    "# 모든 요소 중 최대값의 인덱스\n",
    "print(c.argmax())"
   ]
  },
  {
   "cell_type": "code",
   "execution_count": 21,
   "id": "e41601dd",
   "metadata": {},
   "outputs": [
    {
     "name": "stdout",
     "output_type": "stream",
     "text": [
      "[  0   1   5  14  30  55  91 140]\n"
     ]
    }
   ],
   "source": [
    "# 모든 요소의 누적합\n",
    "print(c.cumsum())"
   ]
  },
  {
   "cell_type": "code",
   "execution_count": 22,
   "id": "940ea9d7",
   "metadata": {},
   "outputs": [
    {
     "name": "stdout",
     "output_type": "stream",
     "text": [
      "[16 26 40 58]\n",
      "[ 14 126]\n"
     ]
    }
   ],
   "source": [
    "# axis를 사용해서 연산 기준 행렬을 지정해주고 연산도 가능함.\n",
    "# axis = 0 : 열 기준 \n",
    "# axis = 1 : 행 기준\n",
    "print(c.sum(axis=0))\n",
    "print(c.sum(axis=1))"
   ]
  },
  {
   "cell_type": "markdown",
   "id": "8eec59ec",
   "metadata": {},
   "source": [
    "**범용 함수**<br>\n",
    "1. exp() : exponential\n",
    "2. sqrt() : 제곱근 계산"
   ]
  },
  {
   "cell_type": "code",
   "execution_count": 23,
   "id": "17c8f0e7",
   "metadata": {},
   "outputs": [
    {
     "name": "stdout",
     "output_type": "stream",
     "text": [
      "[0 1 2]\n"
     ]
    }
   ],
   "source": [
    "d = np.arange(3)\n",
    "print(d)"
   ]
  },
  {
   "cell_type": "code",
   "execution_count": 24,
   "id": "013756ff",
   "metadata": {},
   "outputs": [
    {
     "name": "stdout",
     "output_type": "stream",
     "text": [
      "[1.         2.71828183 7.3890561 ]\n"
     ]
    }
   ],
   "source": [
    "# y = e^x\n",
    "print(np.exp(d))"
   ]
  },
  {
   "cell_type": "code",
   "execution_count": 25,
   "id": "0c895e81",
   "metadata": {},
   "outputs": [
    {
     "name": "stdout",
     "output_type": "stream",
     "text": [
      "[0.         1.         1.41421356]\n"
     ]
    }
   ],
   "source": [
    "# y = sqrt(x)\n",
    "print(np.sqrt(d))"
   ]
  },
  {
   "cell_type": "code",
   "execution_count": null,
   "id": "e4ce7d6e",
   "metadata": {},
   "outputs": [],
   "source": []
  }
 ],
 "metadata": {
  "kernelspec": {
   "display_name": "Python 3 (ipykernel)",
   "language": "python",
   "name": "python3"
  },
  "language_info": {
   "codemirror_mode": {
    "name": "ipython",
    "version": 3
   },
   "file_extension": ".py",
   "mimetype": "text/x-python",
   "name": "python",
   "nbconvert_exporter": "python",
   "pygments_lexer": "ipython3",
   "version": "3.7.3"
  }
 },
 "nbformat": 4,
 "nbformat_minor": 5
}
